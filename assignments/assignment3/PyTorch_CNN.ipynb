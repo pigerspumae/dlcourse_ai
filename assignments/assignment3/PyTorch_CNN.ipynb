{
  "nbformat": 4,
  "nbformat_minor": 0,
  "metadata": {
    "accelerator": "GPU",
    "colab": {
      "name": "PyTorch_CNN.ipynb",
      "provenance": [],
      "collapsed_sections": []
    },
    "kernelspec": {
      "display_name": "Python 3",
      "language": "python",
      "name": "python3"
    },
    "language_info": {
      "codemirror_mode": {
        "name": "ipython",
        "version": 3
      },
      "file_extension": ".py",
      "mimetype": "text/x-python",
      "name": "python",
      "nbconvert_exporter": "python",
      "pygments_lexer": "ipython3",
      "version": "3.7.6"
    }
  },
  "cells": [
    {
      "cell_type": "markdown",
      "metadata": {
        "id": "6-0zcQcabOYh"
      },
      "source": [
        "# Задание 3.2 - сверточные нейронные сети (CNNs) в PyTorch\n",
        "\n",
        "Это упражнение мы буде выполнять в Google Colab - https://colab.research.google.com/  \n",
        "Google Colab позволяет запускать код в notebook в облаке Google, где можно воспользоваться бесплатным GPU!  \n",
        "\n",
        "Авторы курса благодарят компанию Google и надеятся, что праздник не закончится.\n",
        "\n",
        "Туториал по настройке Google Colab:  \n",
        "https://medium.com/deep-learning-turkey/google-colab-free-gpu-tutorial-e113627b9f5d  \n",
        "(Keras инсталлировать не нужно, наш notebook сам установит PyTorch)\n"
      ]
    },
    {
      "cell_type": "code",
      "metadata": {
        "id": "FcXBeP1O7cnY",
        "outputId": "247df16a-f2bc-423c-8e1c-bb5695c107d9",
        "colab": {
          "base_uri": "https://localhost:8080/"
        }
      },
      "source": [
        "# Intstall PyTorch and download data\n",
        "!pip3 install torch torchvision\n",
        "\n",
        "!wget -c http://ufldl.stanford.edu/housenumbers/train_32x32.mat http://ufldl.stanford.edu/housenumbers/test_32x32.mat"
      ],
      "execution_count": null,
      "outputs": [
        {
          "output_type": "stream",
          "text": [
            "Requirement already satisfied: torch in /usr/local/lib/python3.6/dist-packages (1.6.0+cu101)\n",
            "Requirement already satisfied: torchvision in /usr/local/lib/python3.6/dist-packages (0.7.0+cu101)\n",
            "Requirement already satisfied: numpy in /usr/local/lib/python3.6/dist-packages (from torch) (1.18.5)\n",
            "Requirement already satisfied: future in /usr/local/lib/python3.6/dist-packages (from torch) (0.16.0)\n",
            "Requirement already satisfied: pillow>=4.1.1 in /usr/local/lib/python3.6/dist-packages (from torchvision) (7.0.0)\n",
            "--2020-11-01 15:29:14--  http://ufldl.stanford.edu/housenumbers/train_32x32.mat\n",
            "Resolving ufldl.stanford.edu (ufldl.stanford.edu)... 171.64.68.10\n",
            "Connecting to ufldl.stanford.edu (ufldl.stanford.edu)|171.64.68.10|:80... connected.\n",
            "HTTP request sent, awaiting response... 200 OK\n",
            "Length: 182040794 (174M) [text/plain]\n",
            "Saving to: ‘train_32x32.mat’\n",
            "\n",
            "train_32x32.mat     100%[===================>] 173.61M  39.8MB/s    in 6.0s    \n",
            "\n",
            "2020-11-01 15:29:20 (28.8 MB/s) - ‘train_32x32.mat’ saved [182040794/182040794]\n",
            "\n",
            "--2020-11-01 15:29:20--  http://ufldl.stanford.edu/housenumbers/test_32x32.mat\n",
            "Reusing existing connection to ufldl.stanford.edu:80.\n",
            "HTTP request sent, awaiting response... 200 OK\n",
            "Length: 64275384 (61M) [text/plain]\n",
            "Saving to: ‘test_32x32.mat’\n",
            "\n",
            "test_32x32.mat      100%[===================>]  61.30M  40.1MB/s    in 1.5s    \n",
            "\n",
            "2020-11-01 15:29:22 (40.1 MB/s) - ‘test_32x32.mat’ saved [64275384/64275384]\n",
            "\n",
            "FINISHED --2020-11-01 15:29:22--\n",
            "Total wall clock time: 7.8s\n",
            "Downloaded: 2 files, 235M in 7.6s (31.1 MB/s)\n"
          ],
          "name": "stdout"
        }
      ]
    },
    {
      "cell_type": "code",
      "metadata": {
        "id": "-afwWw-Q85vD"
      },
      "source": [
        "from collections import namedtuple\n",
        "\n",
        "import matplotlib.pyplot as plt\n",
        "import numpy as np\n",
        "import PIL\n",
        "import torch\n",
        "import torch.nn as nn\n",
        "import torch.optim as optim\n",
        "import torchvision.datasets as dset\n",
        "from torch.utils.data.sampler import SubsetRandomSampler\n",
        "\n",
        "from torchvision import transforms"
      ],
      "execution_count": 37,
      "outputs": []
    },
    {
      "cell_type": "code",
      "metadata": {
        "id": "6u-0Nvhigu7i"
      },
      "source": [
        "%matplotlib inline"
      ],
      "execution_count": 38,
      "outputs": []
    },
    {
      "cell_type": "code",
      "metadata": {
        "id": "NNU-OD9O9ltP"
      },
      "source": [
        "device = torch.device(\"cuda:0\") # Let's make sure GPU is available!"
      ],
      "execution_count": 39,
      "outputs": []
    },
    {
      "cell_type": "markdown",
      "metadata": {
        "id": "5A5IXA-ebOZf"
      },
      "source": [
        "# Загружаем данные"
      ]
    },
    {
      "cell_type": "code",
      "metadata": {
        "id": "YAvkoRx-9FsP"
      },
      "source": [
        "# First, lets load the dataset\n",
        "data_train = dset.SVHN('./', \n",
        "                       transform=transforms.Compose([\n",
        "                           transforms.ToTensor(),\n",
        "                           transforms.Normalize(mean=[0.43,0.44,0.47],\n",
        "                                               std=[0.20,0.20,0.20])                           \n",
        "                       ])\n",
        "                      )\n",
        "data_test = dset.SVHN('./', split='test', transform=transforms.Compose([\n",
        "                           transforms.ToTensor(),\n",
        "                           transforms.Normalize(mean=[0.43,0.44,0.47],\n",
        "                                               std=[0.20,0.20,0.20])                           \n",
        "                       ]))"
      ],
      "execution_count": 40,
      "outputs": []
    },
    {
      "cell_type": "markdown",
      "metadata": {
        "id": "LMHgSYXlbOZt"
      },
      "source": [
        "Разделяем данные на training и validation.\n",
        "\n",
        "На всякий случай для подробностей - https://pytorch.org/tutorials/beginner/data_loading_tutorial.html"
      ]
    },
    {
      "cell_type": "code",
      "metadata": {
        "id": "YRnr8CPg7Hli"
      },
      "source": [
        "batch_size = 64\n",
        "\n",
        "data_size = data_train.data.shape[0]\n",
        "validation_split = .2\n",
        "split = int(np.floor(validation_split * data_size))\n",
        "indices = list(range(data_size))\n",
        "np.random.shuffle(indices)\n",
        "\n",
        "train_indices, val_indices = indices[split:], indices[:split]\n",
        "\n",
        "train_sampler = SubsetRandomSampler(train_indices)\n",
        "val_sampler = SubsetRandomSampler(val_indices)\n",
        "\n",
        "train_loader = torch.utils.data.DataLoader(data_train, batch_size=batch_size, \n",
        "                                           sampler=train_sampler)\n",
        "val_loader = torch.utils.data.DataLoader(data_train, batch_size=batch_size,\n",
        "                                         sampler=val_sampler)"
      ],
      "execution_count": 41,
      "outputs": []
    },
    {
      "cell_type": "code",
      "metadata": {
        "id": "LyYvt-T67PBG"
      },
      "source": [
        "# We'll use a special helper module to shape it into a flat tensor\n",
        "class Flattener(nn.Module):\n",
        "    def forward(self, x):\n",
        "        batch_size, *_ = x.shape\n",
        "        return x.view(batch_size, -1)"
      ],
      "execution_count": 42,
      "outputs": []
    },
    {
      "cell_type": "markdown",
      "metadata": {
        "id": "OTS2we0hbOaM"
      },
      "source": [
        "Создадим простейшую сеть с новыми слоями:  \n",
        "Convolutional - `nn.Conv2d`  \n",
        "MaxPool - `nn.MaxPool2d`"
      ]
    },
    {
      "cell_type": "code",
      "metadata": {
        "id": "w9SFVGZP7SQd"
      },
      "source": [
        "nn_model = nn.Sequential(\n",
        "            nn.Conv2d(3, 64, 3, padding=1),\n",
        "            nn.ReLU(inplace=True),\n",
        "            nn.MaxPool2d(4),\n",
        "            nn.Conv2d(64, 64, 3, padding=1),\n",
        "            nn.ReLU(inplace=True),\n",
        "            nn.MaxPool2d(4),    \n",
        "            Flattener(),\n",
        "            nn.Linear(64*2*2, 10),\n",
        "          )\n",
        "\n",
        "nn_model.type(torch.cuda.FloatTensor)\n",
        "nn_model.to(device)\n",
        "\n",
        "loss = nn.CrossEntropyLoss().type(torch.cuda.FloatTensor)\n",
        "optimizer = optim.SGD(nn_model.parameters(), lr=1e-1, weight_decay=1e-4)"
      ],
      "execution_count": 43,
      "outputs": []
    },
    {
      "cell_type": "markdown",
      "metadata": {
        "id": "yXUnYgmvbOaa"
      },
      "source": [
        "Восстановите функцию `compute_accuracy` из прошлого задания.  \n",
        "Единственное отличие в новом - она должна передать данные на GPU прежде чем прогонять через модель. Сделайте это так же, как это делает функция `train_model`"
      ]
    },
    {
      "cell_type": "code",
      "metadata": {
        "id": "2ek3KVQK7hJ6",
        "outputId": "46fcc01e-5084-458f-d952-1be16f4abc88",
        "colab": {
          "base_uri": "https://localhost:8080/"
        }
      },
      "source": [
        "def train_model(model, train_loader, val_loader, loss, optimizer, num_epochs, scheduler = None):    \n",
        "    loss_history = []\n",
        "    train_history = []\n",
        "    val_history = []\n",
        "    for epoch in range(num_epochs):\n",
        "        model.train() # Enter train mode\n",
        "        \n",
        "        loss_accum = 0\n",
        "        correct_samples = 0\n",
        "        total_samples = 0\n",
        "        for i_step, (x, y) in enumerate(train_loader):\n",
        "          \n",
        "            x_gpu = x.to(device)\n",
        "            y_gpu = y.to(device)\n",
        "            prediction = model(x_gpu)    \n",
        "            loss_value = loss(prediction, y_gpu)\n",
        "            optimizer.zero_grad()\n",
        "            loss_value.backward()\n",
        "            optimizer.step()\n",
        "            \n",
        "            _, indices = torch.max(prediction, 1)\n",
        "            correct_samples += torch.sum(indices == y_gpu)\n",
        "            total_samples += y.shape[0]\n",
        "            \n",
        "            loss_accum += loss_value\n",
        "        \n",
        "        if scheduler is not None:\n",
        "            scheduler.step()  \n",
        "        \n",
        "        ave_loss = loss_accum / i_step\n",
        "        train_accuracy = float(correct_samples) / total_samples\n",
        "        val_accuracy = compute_accuracy(model, val_loader)\n",
        "        \n",
        "        loss_history.append(float(ave_loss))\n",
        "        train_history.append(train_accuracy)\n",
        "        val_history.append(val_accuracy)\n",
        "        \n",
        "        print(\"Average loss: %f, Train accuracy: %f, Val accuracy: %f\" % (ave_loss, train_accuracy, val_accuracy))\n",
        "        \n",
        "    return loss_history, train_history, val_history\n",
        "        \n",
        "def compute_accuracy(model, loader):\n",
        "    \"\"\"\n",
        "    Computes accuracy on the dataset wrapped in a loader\n",
        "    \n",
        "    Returns: accuracy as a float value between 0 and 1\n",
        "    \"\"\"\n",
        "    model.eval() # Evaluation mode\n",
        "    # TODO: Copy implementation from previous assignment\n",
        "    # Don't forget to move the data to device before running it through the model!\n",
        "    \n",
        "    #raise Exception(\"Not implemented\")\n",
        "    correct_samples = 0\n",
        "    total_samples = 0\n",
        "    for x, y in loader:\n",
        "        x_gpu = x.to(device)\n",
        "        y_gpu = y.to(device)\n",
        "        prediction = model(x_gpu)\n",
        "        _, indices = torch.max(prediction, 1)\n",
        "        correct_samples += torch.sum(indices == y_gpu)\n",
        "        total_samples += y_gpu.shape[0]\n",
        "    \n",
        "    val_accuracy = float(correct_samples) / total_samples\n",
        "\n",
        "    return val_accuracy\n",
        "\n",
        "loss_history, train_history, val_history = train_model(nn_model, train_loader, val_loader, loss, optimizer, 5)"
      ],
      "execution_count": 44,
      "outputs": [
        {
          "output_type": "stream",
          "text": [
            "Average loss: 1.384971, Train accuracy: 0.538614, Val accuracy: 0.779196\n",
            "Average loss: 0.685683, Train accuracy: 0.791352, Val accuracy: 0.786567\n",
            "Average loss: 0.587269, Train accuracy: 0.824608, Val accuracy: 0.827111\n",
            "Average loss: 0.540846, Train accuracy: 0.838293, Val accuracy: 0.828339\n",
            "Average loss: 0.510836, Train accuracy: 0.848377, Val accuracy: 0.828544\n"
          ],
          "name": "stdout"
        }
      ]
    },
    {
      "cell_type": "markdown",
      "metadata": {
        "id": "6a-3a1ZFGEw_"
      },
      "source": [
        "# Аугментация данных (Data augmentation)\n",
        "\n",
        "В работе с изображениями одним из особенно важных методов является аугментация данных - то есть, генерация дополнительных данных для тренировки на основе изначальных.   \n",
        "Таким образом, мы получаем возможность \"увеличить\" набор данных для тренировки, что ведет к лучшей работе сети.\n",
        "Важно, чтобы аугментированные данные были похожи на те, которые могут встретиться в реальной жизни, иначе польза от аугментаций уменьшается и может ухудшить работу сети.\n",
        "\n",
        "С PyTorch идут несколько таких алгоритмов, называемых `transforms`. Более подробно про них можно прочитать тут -\n",
        "https://pytorch.org/tutorials/beginner/data_loading_tutorial.html#transforms\n",
        "\n",
        "Ниже мы используем следующие алгоритмы генерации:\n",
        "- ColorJitter - случайное изменение цвета\n",
        "- RandomHorizontalFlip - горизонтальное отражение с вероятностью 50%\n",
        "- RandomVerticalFlip - вертикальное отражение с вероятностью 50%\n",
        "- RandomRotation - случайный поворот"
      ]
    },
    {
      "cell_type": "code",
      "metadata": {
        "id": "jCWMUWmr7t5g"
      },
      "source": [
        "tfs = transforms.Compose([\n",
        "    transforms.ColorJitter(hue=.50, saturation=.50),\n",
        "    transforms.RandomHorizontalFlip(),\n",
        "    transforms.RandomVerticalFlip(),\n",
        "    transforms.RandomRotation(50, resample=PIL.Image.BILINEAR),\n",
        "    transforms.ToTensor(),\n",
        "    transforms.Normalize(mean=[0.43,0.44,0.47],\n",
        "                       std=[0.20,0.20,0.20])                           \n",
        "])\n",
        "\n",
        "# Create augmented train dataset\n",
        "data_aug_train = dset.SVHN('./', \n",
        "                       transform=tfs\n",
        "                      )\n",
        "\n",
        "train_aug_loader = torch.utils.data.DataLoader(data_aug_train, batch_size=batch_size, \n",
        "                                           sampler=train_sampler)"
      ],
      "execution_count": 45,
      "outputs": []
    },
    {
      "cell_type": "markdown",
      "metadata": {
        "id": "kgseiIMlbOa1"
      },
      "source": [
        "Визуализируем результаты агментации (вообще, смотреть на сгенерированные данные всегда очень полезно)."
      ]
    },
    {
      "cell_type": "code",
      "metadata": {
        "id": "YlJJEro1KZ45",
        "outputId": "884a8714-999a-44cc-9dad-d5b5d1c4c16a",
        "colab": {
          "base_uri": "https://localhost:8080/",
          "height": 173
        }
      },
      "source": [
        "# TODO: Visualize some augmented images!\n",
        "# hint: you can create new datasets and loaders to accomplish this\n",
        "\n",
        "# Based on the visualizations, should we keep all the augmentations?\n",
        "\n",
        "tfs = transforms.Compose([\n",
        "    transforms.ColorJitter(hue=.20, saturation=.20),\n",
        "    transforms.RandomHorizontalFlip(),\n",
        "    transforms.RandomVerticalFlip(),\n",
        "    transforms.RandomRotation(10, resample=PIL.Image.BILINEAR),\n",
        "])\n",
        "\n",
        "data_aug_vis = dset.SVHN('./', \n",
        "                       transform=tfs\n",
        "                      )\n",
        "\n",
        "plt.figure(figsize=(30, 3))\n",
        "\n",
        "for i, (x, y) in enumerate(data_aug_vis):\n",
        "    if i == 10:\n",
        "        break\n",
        "    plt.subplot(1, 10, i+1)\n",
        "    plt.grid(False)\n",
        "    plt.axis('off')\n",
        "    plt.imshow(x)\n",
        "#plt.show()    "
      ],
      "execution_count": 46,
      "outputs": [
        {
          "output_type": "display_data",
          "data": {
            "image/png": "[encoded data removed]",
            "text/plain": [
              "<Figure size 2160x216 with 10 Axes>"
            ]
          },
          "metadata": {
            "tags": [],
            "needs_background": "light"
          }
        }
      ]
    },
    {
      "cell_type": "markdown",
      "metadata": {
        "id": "o2LrmsYHoguB"
      },
      "source": [
        "Все ли агментации одинаково полезны на этом наборе данных? Могут ли быть среди них те, которые собьют модель с толку?\n",
        "\n",
        "Выберите из них только корректные"
      ]
    },
    {
      "cell_type": "code",
      "metadata": {
        "id": "evro9ksXGs9u"
      },
      "source": [
        "# TODO: \n",
        "tfs = transforms.Compose([\n",
        "    transforms.ColorJitter(hue=.20, saturation=.20),\n",
        "    transforms.RandomRotation(10, resample=PIL.Image.BILINEAR),\n",
        "    transforms.ToTensor(),\n",
        "    transforms.Normalize(mean=[0.43,0.44,0.47],\n",
        "                         std=[0.20,0.20,0.20])                           \n",
        "])\n",
        "\n",
        "# TODO create new instances of loaders with the augmentations you chose\n",
        "data_aug_train = dset.SVHN('./', \n",
        "                       transform=tfs\n",
        "                      )\n",
        "train_aug_loader = torch.utils.data.DataLoader(data_aug_train, batch_size=batch_size, \n",
        "                                           sampler=train_sampler)"
      ],
      "execution_count": 47,
      "outputs": []
    },
    {
      "cell_type": "code",
      "metadata": {
        "id": "PeO6Zw0DHqPR",
        "outputId": "153705c5-91ba-4831-9310-f0db5ea1773c",
        "colab": {
          "base_uri": "https://localhost:8080/"
        }
      },
      "source": [
        "# Finally, let's train with augmentations!\n",
        "\n",
        "# Note we shouldn't use augmentations on validation\n",
        "\n",
        "loss_history, train_history, val_history = train_model(nn_model, train_aug_loader, val_loader, loss, optimizer, 5)"
      ],
      "execution_count": 48,
      "outputs": [
        {
          "output_type": "stream",
          "text": [
            "Average loss: 0.593109, Train accuracy: 0.818005, Val accuracy: 0.846973\n",
            "Average loss: 0.551600, Train accuracy: 0.830632, Val accuracy: 0.847382\n",
            "Average loss: 0.528634, Train accuracy: 0.838515, Val accuracy: 0.832025\n",
            "Average loss: 0.513244, Train accuracy: 0.843719, Val accuracy: 0.845813\n",
            "Average loss: 0.500644, Train accuracy: 0.848053, Val accuracy: 0.864651\n"
          ],
          "name": "stdout"
        }
      ]
    },
    {
      "cell_type": "markdown",
      "metadata": {
        "id": "r0bcioK6JBDK"
      },
      "source": [
        "# LeNet\n",
        "Попробуем имплементировать классическую архитектуру сверточной нейронной сети, предложенную Яном ЛеКуном в 1998 году. В свое время она достигла впечатляющих результатов на MNIST, посмотрим как она справится с SVHN?\n",
        "Она описана в статье [\"Gradient Based Learning Applied to Document Recognition\"](http://yann.lecun.com/exdb/publis/pdf/lecun-01a.pdf), попробуйте прочитать ключевые части и имплементировать предложенную архитетуру на PyTorch.\n",
        "\n",
        "Реализовывать слои и функцию ошибки LeNet, которых нет в PyTorch, **не нужно** - просто возьмите их размеры и переведите в уже известные нам Convolutional, Pooling и Fully Connected layers.\n",
        "\n",
        "Если в статье не очень понятно, можно просто погуглить LeNet и разобраться в деталях :)"
      ]
    },
    {
      "cell_type": "code",
      "metadata": {
        "id": "ieEzZUglJAUB"
      },
      "source": [
        "# TODO: Implement LeNet-like architecture for SVHN task\n",
        "lenet_model = nn.Sequential(\n",
        "              nn.Conv2d(3, 6, kernel_size=(5, 5)),\n",
        "              nn.MaxPool2d(kernel_size=(2, 2), stride=2),\n",
        "              nn.Tanh(),\n",
        "              nn.Conv2d(6, 16, kernel_size=(5, 5)),\n",
        "              nn.MaxPool2d(kernel_size=(2, 2), stride=2),\n",
        "              nn.Tanh(),\n",
        "              Flattener(),\n",
        "              nn.Linear(16 * 5 * 5, 120),\n",
        "              nn.Tanh(),\n",
        "              nn.Linear(120, 84),\n",
        "              nn.Tanh(),\n",
        "              nn.Linear(84, 10)\n",
        "              )\n",
        "\n",
        "lenet_model.type(torch.cuda.FloatTensor)\n",
        "lenet_model.to(device)\n",
        "\n",
        "loss = nn.CrossEntropyLoss().type(torch.cuda.FloatTensor)\n",
        "optimizer = optim.SGD(lenet_model.parameters(), lr=1e-1, weight_decay=1e-4)"
      ],
      "execution_count": 49,
      "outputs": []
    },
    {
      "cell_type": "code",
      "metadata": {
        "id": "WMmaPfdeKk9H",
        "outputId": "56e0fa5c-105b-4edd-abb9-588bbd4cd445",
        "colab": {
          "base_uri": "https://localhost:8080/"
        }
      },
      "source": [
        "# Let's train it!\n",
        "loss_history, train_history, val_history = train_model(lenet_model, train_aug_loader, val_loader, loss, optimizer, 10)"
      ],
      "execution_count": 50,
      "outputs": [
        {
          "output_type": "stream",
          "text": [
            "Average loss: 1.278501, Train accuracy: 0.567877, Val accuracy: 0.796806\n",
            "Average loss: 0.562527, Train accuracy: 0.828396, Val accuracy: 0.863286\n",
            "Average loss: 0.483218, Train accuracy: 0.852933, Val accuracy: 0.871408\n",
            "Average loss: 0.441390, Train accuracy: 0.866413, Val accuracy: 0.871067\n",
            "Average loss: 0.411978, Train accuracy: 0.873733, Val accuracy: 0.871476\n",
            "Average loss: 0.392221, Train accuracy: 0.879944, Val accuracy: 0.885946\n",
            "Average loss: 0.370595, Train accuracy: 0.886599, Val accuracy: 0.882261\n",
            "Average loss: 0.357252, Train accuracy: 0.891001, Val accuracy: 0.889769\n",
            "Average loss: 0.343471, Train accuracy: 0.894925, Val accuracy: 0.892431\n",
            "Average loss: 0.332205, Train accuracy: 0.897741, Val accuracy: 0.890519\n"
          ],
          "name": "stdout"
        }
      ]
    },
    {
      "cell_type": "markdown",
      "metadata": {
        "id": "u_O9qiYySvuj"
      },
      "source": [
        "# Подбор гиперпараметров"
      ]
    },
    {
      "cell_type": "code",
      "metadata": {
        "id": "i6mhfdQ9K-N3",
        "outputId": "2b21370f-1338-4ac9-fac4-dd624f6f5dc5",
        "colab": {
          "base_uri": "https://localhost:8080/"
        }
      },
      "source": [
        "# The key hyperparameters we're going to tune are learning speed, annealing rate and regularization\n",
        "# We also encourage you to try different optimizers as well\n",
        "\n",
        "Hyperparams = namedtuple(\"Hyperparams\", ['learning_rate', 'anneal_epochs', 'reg'])\n",
        "RunResult = namedtuple(\"RunResult\", ['model', 'train_history', 'val_history', 'final_val_accuracy'])\n",
        "\n",
        "learning_rates = [1e-1, 1e-2]\n",
        "anneal_coeff = 0.2\n",
        "anneal_epochs = [2, 4]\n",
        "regs = [1e-4, 1e-5]\n",
        "\n",
        "batch_size = 64\n",
        "epoch_num = 6\n",
        "\n",
        "# Record all the runs here\n",
        "# Key should be Hyperparams and values should be RunResult\n",
        "run_record = {} \n",
        "\n",
        "# Use grid search or random search and record all runs in run_record dictionnary \n",
        "# Important: perform search in logarithmic space!\n",
        "\n",
        "# TODO: Your code here!\n",
        "\n",
        "for lr in learning_rates:\n",
        "    for anneal_epoch in anneal_epochs:\n",
        "        for reg in regs:\n",
        "            lenet_model = nn.Sequential(\n",
        "                nn.Conv2d(3, 6, kernel_size=(5, 5)),\n",
        "                nn.MaxPool2d(kernel_size=(2, 2), stride=2),\n",
        "                nn.Tanh(),\n",
        "                nn.Conv2d(6, 16, kernel_size=(5, 5)),\n",
        "                nn.MaxPool2d(kernel_size=(2, 2), stride=2),\n",
        "                nn.Tanh(),\n",
        "                Flattener(),\n",
        "                nn.Linear(16 * 5 * 5, 120),\n",
        "                nn.Tanh(),\n",
        "                nn.Linear(120, 84),\n",
        "                nn.Tanh(),\n",
        "                nn.Linear(84, 10)\n",
        "                )\n",
        "\n",
        "            lenet_model.type(torch.cuda.FloatTensor)\n",
        "            lenet_model.to(device)\n",
        "            \n",
        "            loss = nn.CrossEntropyLoss().type(torch.cuda.FloatTensor)\n",
        "\n",
        "            params = Hyperparams(lr, anneal_epoch, reg)\n",
        "            optimizer = optim.SGD(lenet_model.parameters(), lr=lr, weight_decay=reg)\n",
        "            scheduler = optim.lr_scheduler.StepLR(optimizer, step_size=anneal_epoch, gamma=anneal_coeff)\n",
        "\n",
        "            loss_history, train_history, val_history = train_model(lenet_model, train_aug_loader, val_loader, loss, optimizer, epoch_num, scheduler)\n",
        "            \n",
        "            result = RunResult(lenet_model, train_history, val_history, val_history[-1])\n",
        "            run_record[params] = result"
      ],
      "execution_count": 54,
      "outputs": [
        {
          "output_type": "stream",
          "text": [
            "Average loss: 1.260662, Train accuracy: 0.574873, Val accuracy: 0.815576\n",
            "Average loss: 0.569361, Train accuracy: 0.825820, Val accuracy: 0.860078\n",
            "Average loss: 0.447004, Train accuracy: 0.865423, Val accuracy: 0.880281\n",
            "Average loss: 0.429484, Train accuracy: 0.871157, Val accuracy: 0.881442\n",
            "Average loss: 0.408034, Train accuracy: 0.878238, Val accuracy: 0.883080\n",
            "Average loss: 0.403459, Train accuracy: 0.878323, Val accuracy: 0.884240\n",
            "Average loss: 1.236192, Train accuracy: 0.583899, Val accuracy: 0.824039\n",
            "Average loss: 0.567305, Train accuracy: 0.825086, Val accuracy: 0.847655\n",
            "Average loss: 0.447511, Train accuracy: 0.864075, Val accuracy: 0.876868\n",
            "Average loss: 0.427005, Train accuracy: 0.869945, Val accuracy: 0.879394\n",
            "Average loss: 0.409856, Train accuracy: 0.875781, Val accuracy: 0.882602\n",
            "Average loss: 0.407161, Train accuracy: 0.875985, Val accuracy: 0.883694\n",
            "Average loss: 1.256629, Train accuracy: 0.579821, Val accuracy: 0.787864\n",
            "Average loss: 0.562090, Train accuracy: 0.829488, Val accuracy: 0.850727\n",
            "Average loss: 0.474444, Train accuracy: 0.854674, Val accuracy: 0.874411\n",
            "Average loss: 0.432539, Train accuracy: 0.868000, Val accuracy: 0.862125\n",
            "Average loss: 0.364587, Train accuracy: 0.889977, Val accuracy: 0.892499\n",
            "Average loss: 0.351041, Train accuracy: 0.894806, Val accuracy: 0.894137\n",
            "Average loss: 1.304068, Train accuracy: 0.560096, Val accuracy: 0.832912\n",
            "Average loss: 0.565648, Train accuracy: 0.827748, Val accuracy: 0.854071\n",
            "Average loss: 0.476407, Train accuracy: 0.854947, Val accuracy: 0.863149\n",
            "Average loss: 0.435943, Train accuracy: 0.867351, Val accuracy: 0.884240\n",
            "Average loss: 0.366772, Train accuracy: 0.890011, Val accuracy: 0.893932\n",
            "Average loss: 0.353943, Train accuracy: 0.893219, Val accuracy: 0.895502\n",
            "Average loss: 2.246251, Train accuracy: 0.187916, Val accuracy: 0.190977\n",
            "Average loss: 2.181509, Train accuracy: 0.208204, Val accuracy: 0.297932\n",
            "Average loss: 2.023760, Train accuracy: 0.309064, Val accuracy: 0.349123\n",
            "Average loss: 1.891639, Train accuracy: 0.362454, Val accuracy: 0.394103\n",
            "Average loss: 1.803405, Train accuracy: 0.388049, Val accuracy: 0.400655\n",
            "Average loss: 1.775189, Train accuracy: 0.395318, Val accuracy: 0.407890\n",
            "Average loss: 2.247119, Train accuracy: 0.186141, Val accuracy: 0.190977\n",
            "Average loss: 2.198877, Train accuracy: 0.200338, Val accuracy: 0.255887\n",
            "Average loss: 2.102509, Train accuracy: 0.270450, Val accuracy: 0.300389\n",
            "Average loss: 2.017921, Train accuracy: 0.317868, Val accuracy: 0.340250\n",
            "Average loss: 1.953928, Train accuracy: 0.339436, Val accuracy: 0.350078\n",
            "Average loss: 1.929650, Train accuracy: 0.346534, Val accuracy: 0.356631\n",
            "Average loss: 2.244542, Train accuracy: 0.184008, Val accuracy: 0.197870\n",
            "Average loss: 2.141245, Train accuracy: 0.247022, Val accuracy: 0.313630\n",
            "Average loss: 1.746919, Train accuracy: 0.409395, Val accuracy: 0.533888\n",
            "Average loss: 1.230844, Train accuracy: 0.615142, Val accuracy: 0.734353\n",
            "Average loss: 0.944664, Train accuracy: 0.721206, Val accuracy: 0.760562\n",
            "Average loss: 0.886132, Train accuracy: 0.740590, Val accuracy: 0.773872\n",
            "Average loss: 2.244639, Train accuracy: 0.186892, Val accuracy: 0.191045\n",
            "Average loss: 2.194302, Train accuracy: 0.206924, Val accuracy: 0.263463\n",
            "Average loss: 1.882351, Train accuracy: 0.357591, Val accuracy: 0.484336\n",
            "Average loss: 1.256648, Train accuracy: 0.596918, Val accuracy: 0.709098\n",
            "Average loss: 0.963243, Train accuracy: 0.704399, Val accuracy: 0.737219\n",
            "Average loss: 0.906851, Train accuracy: 0.725915, Val accuracy: 0.757491\n"
          ],
          "name": "stdout"
        }
      ]
    },
    {
      "cell_type": "code",
      "metadata": {
        "id": "Y6xExdw8JB1l",
        "outputId": "62ebd95b-171f-40d3-ea83-8d839030da50",
        "colab": {
          "base_uri": "https://localhost:8080/"
        }
      },
      "source": [
        "best_val_accuracy = None\n",
        "best_hyperparams = None\n",
        "best_run = None\n",
        "\n",
        "for hyperparams, run_result in run_record.items():\n",
        "    if best_val_accuracy is None or best_val_accuracy < run_result.final_val_accuracy:\n",
        "        best_val_accuracy = run_result.final_val_accuracy\n",
        "        best_hyperparams = hyperparams\n",
        "        best_run = run_result\n",
        "    \n",
        "        \n",
        "print(\"Best validation accuracy: %4.2f, best hyperparams: %s\" % (best_val_accuracy, best_hyperparams))\n",
        "        "
      ],
      "execution_count": 55,
      "outputs": [
        {
          "output_type": "stream",
          "text": [
            "Best validation accuracy: 0.90, best hyperparams: Hyperparams(learning_rate=0.1, anneal_epochs=4, reg=1e-05)\n"
          ],
          "name": "stdout"
        }
      ]
    },
    {
      "cell_type": "markdown",
      "metadata": {
        "id": "LOmsR0uVgtgf"
      },
      "source": [
        "# Свободное упражнение - догоним и перегоним LeNet!\n",
        "\n",
        "Попробуйте найти архитектуру и настройки тренировки, чтобы выступить лучше наших бейзлайнов.\n",
        "\n",
        "Что можно и нужно попробовать:\n",
        "- BatchNormalization (для convolution layers он в PyTorch называется [batchnorm2d](https://pytorch.org/docs/stable/nn.html#batchnorm2d))\n",
        "- Изменить количество слоев и их толщину\n",
        "- Изменять количество эпох тренировки\n",
        "- Попробовать и другие агментации"
      ]
    },
    {
      "cell_type": "code",
      "metadata": {
        "id": "tSVhD747icoc",
        "outputId": "824cbe32-4754-47be-9541-5d97e303f811",
        "colab": {
          "base_uri": "https://localhost:8080/"
        }
      },
      "source": [
        "best_model = nn.Sequential(\n",
        "              nn.Conv2d(3, 64, kernel_size=(3, 3)),\n",
        "              nn.MaxPool2d(kernel_size=(2, 2), stride=2),\n",
        "              nn.BatchNorm2d(64),\n",
        "              nn.ReLU(inplace=True),\n",
        "\n",
        "              nn.Conv2d(64, 256, kernel_size=(3, 3)),\n",
        "              nn.MaxPool2d(kernel_size=(2, 2), stride=2),\n",
        "              nn.BatchNorm2d(256),\n",
        "              nn.ReLU(inplace=True),\n",
        "\n",
        "              nn.Conv2d(256, 256, kernel_size=(3, 3)),\n",
        "              nn.MaxPool2d(kernel_size=(2, 2), stride=2),\n",
        "              nn.BatchNorm2d(256),\n",
        "              nn.ReLU(inplace=True),\n",
        "\n",
        "              Flattener(),\n",
        "              nn.Linear(256 * 2 * 2, 120),\n",
        "              nn.BatchNorm1d(120),\n",
        "              nn.ReLU(inplace=True),\n",
        "\n",
        "              nn.Linear(120, 10)\n",
        "            )\n",
        "\n",
        "best_model.type(torch.cuda.FloatTensor)\n",
        "best_model.to(device)\n",
        "\n",
        "optimizer = optim.Adam(best_model.parameters(), lr=1e-3, weight_decay=1e-5)\n",
        "scheduler = optim.lr_scheduler.CyclicLR(optimizer, base_lr=1e-4, max_lr=1e-3, cycle_momentum=False)\n",
        "\n",
        "loss_history, train_history, val_history = train_model(best_model, train_aug_loader, val_loader, loss, optimizer, 20, scheduler)"
      ],
      "execution_count": 56,
      "outputs": [
        {
          "output_type": "stream",
          "text": [
            "Average loss: 1.033389, Train accuracy: 0.712111, Val accuracy: 0.860760\n",
            "Average loss: 0.486625, Train accuracy: 0.863086, Val accuracy: 0.892158\n",
            "Average loss: 0.377618, Train accuracy: 0.889431, Val accuracy: 0.904716\n",
            "Average loss: 0.322338, Train accuracy: 0.903593, Val accuracy: 0.910040\n",
            "Average loss: 0.282183, Train accuracy: 0.917295, Val accuracy: 0.914955\n",
            "Average loss: 0.252749, Train accuracy: 0.924615, Val accuracy: 0.918572\n",
            "Average loss: 0.225077, Train accuracy: 0.933113, Val accuracy: 0.919050\n",
            "Average loss: 0.205312, Train accuracy: 0.938965, Val accuracy: 0.921098\n",
            "Average loss: 0.186355, Train accuracy: 0.944613, Val accuracy: 0.923009\n",
            "Average loss: 0.168551, Train accuracy: 0.950005, Val accuracy: 0.923145\n",
            "Average loss: 0.157428, Train accuracy: 0.953298, Val accuracy: 0.920278\n",
            "Average loss: 0.147672, Train accuracy: 0.954885, Val accuracy: 0.922736\n",
            "Average loss: 0.131888, Train accuracy: 0.959612, Val accuracy: 0.924237\n",
            "Average loss: 0.121038, Train accuracy: 0.963366, Val accuracy: 0.920074\n",
            "Average loss: 0.114556, Train accuracy: 0.965328, Val accuracy: 0.920620\n",
            "Average loss: 0.104609, Train accuracy: 0.968246, Val accuracy: 0.922394\n",
            "Average loss: 0.099093, Train accuracy: 0.969065, Val accuracy: 0.920893\n",
            "Average loss: 0.090629, Train accuracy: 0.971948, Val accuracy: 0.923145\n",
            "Average loss: 0.085228, Train accuracy: 0.973638, Val accuracy: 0.918163\n",
            "Average loss: 0.080119, Train accuracy: 0.975241, Val accuracy: 0.919391\n"
          ],
          "name": "stdout"
        }
      ]
    },
    {
      "cell_type": "markdown",
      "metadata": {
        "id": "ubeKgBcnhx7N"
      },
      "source": [
        "# Финальный аккорд - проверим лучшую модель на test set\n",
        "\n",
        "В качестве разнообразия - напишите код для прогона модели на test set вы.\n",
        "\n",
        "В результате вы должны натренировать модель, которая покажет более **90%** точности на test set.  \n",
        "Как водится, лучший результат в группе получит дополнительные баллы!"
      ]
    },
    {
      "cell_type": "code",
      "metadata": {
        "id": "EIqM1kdeh-hd",
        "outputId": "57b805ef-483c-4e64-c5de-28de4fee8db2",
        "colab": {
          "base_uri": "https://localhost:8080/"
        }
      },
      "source": [
        "# TODO Write the code to compute accuracy on test set\n",
        "test_loader = torch.utils.data.DataLoader(data_test, batch_size=batch_size)\n",
        "final_test_accuracy = compute_accuracy(best_model, test_loader)\n",
        "print(\"Final test accuracy - \", final_test_accuracy)"
      ],
      "execution_count": 57,
      "outputs": [
        {
          "output_type": "stream",
          "text": [
            "Final test accuracy -  0.9112246465888137\n"
          ],
          "name": "stdout"
        }
      ]
    },
    {
      "cell_type": "code",
      "metadata": {
        "id": "BfH6qip6kVX_"
      },
      "source": [
        ""
      ],
      "execution_count": null,
      "outputs": []
    }
  ]
}